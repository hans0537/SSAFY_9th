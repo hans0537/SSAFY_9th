{
 "cells": [
  {
   "cell_type": "code",
   "execution_count": 2,
   "metadata": {},
   "outputs": [],
   "source": [
    "# 객체, 클래스\n",
    "\n",
    "# 클래스 => 객체의 설계도 역할\n",
    "\n",
    "# 1. 클래스 정의\n",
    "class Person:\n",
    "    pass\n",
    "\n",
    "# 2. 인스턴스 생성\n",
    "person = Person()"
   ]
  },
  {
   "cell_type": "code",
   "execution_count": 1,
   "metadata": {},
   "outputs": [
    {
     "name": "stdout",
     "output_type": "stream",
     "text": [
      "True\n",
      "False\n",
      "True\n",
      "True\n"
     ]
    }
   ],
   "source": [
    "a = [1,2,3]\n",
    "b = [1,2,3]\n",
    "\n",
    "print(a == b) # 동등 : 안에 들어있는 내용을 비교\n",
    "print(a is b) # 동일 : 두 변수가 같은 객체를 가르키는지 비교\n",
    "\n",
    "c = [4,5,6]\n",
    "d = c # 얕은 복사 ... c 가 가르키고 있는 객체를 d도 가르키게 된다\n",
    "print(c == d)\n",
    "print(c is d)"
   ]
  },
  {
   "cell_type": "code",
   "execution_count": 5,
   "metadata": {},
   "outputs": [
    {
     "name": "stdout",
     "output_type": "stream",
     "text": [
      "팀 버너스리\n",
      "스티브 잡스\n",
      "red\n",
      "red\n",
      "red\n",
      "남\n"
     ]
    },
    {
     "ename": "AttributeError",
     "evalue": "'Person' object has no attribute 'gender'",
     "output_type": "error",
     "traceback": [
      "\u001b[1;31m---------------------------------------------------------------------------\u001b[0m",
      "\u001b[1;31mAttributeError\u001b[0m                            Traceback (most recent call last)",
      "Cell \u001b[1;32mIn[5], line 31\u001b[0m\n\u001b[0;32m     28\u001b[0m \u001b[39mprint\u001b[39m(p2\u001b[39m.\u001b[39mblood_color)\n\u001b[0;32m     30\u001b[0m \u001b[39mprint\u001b[39m(p1\u001b[39m.\u001b[39mgender)\n\u001b[1;32m---> 31\u001b[0m \u001b[39mprint\u001b[39m(p2\u001b[39m.\u001b[39;49mgender) \u001b[39m# 오류\u001b[39;00m\n",
      "\u001b[1;31mAttributeError\u001b[0m: 'Person' object has no attribute 'gender'"
     ]
    }
   ],
   "source": [
    "class Person:\n",
    "    # 클래스 변수\n",
    "    blood_color = \"red\" # 이 설계도를 통해 만들어질 객체들의 공통적인 속성\n",
    "    population = 0 # 이 설계도를 통해 만들어질 객체들이 공유할 속성\n",
    "\n",
    "    # 객체가 생성될때 실행되는 함수(메소드)\n",
    "    # self는 생성될 인스턴스를 가르키게 된다.\n",
    "    def __init__(self, name):\n",
    "        # 인스턴스 변수\n",
    "        self.name = name # 독립된 인스턴스가 가지는 속성\n",
    "\n",
    "        # 클래스 변수에 접근할때\n",
    "        Person.population += 1\n",
    "# 인스턴스 생성\n",
    "p1 = Person(\"팀 버너스리\")\n",
    "p2 = Person(\"스티브 잡스\")\n",
    "\n",
    "# 인스턴스 속성 할당\n",
    "p1.gender = \"남\"\n",
    "\n",
    "# 인스턴스 속성에 접근\n",
    "print(p1.name)\n",
    "print(p2.name)\n",
    "\n",
    "# 클래스 속성에 접근\n",
    "print(Person.blood_color)\n",
    "print(p1.blood_color)\n",
    "print(p2.blood_color)\n",
    "\n",
    "print(p1.gender)\n",
    "# print(p2.gender) # 오류"
   ]
  },
  {
   "cell_type": "code",
   "execution_count": 7,
   "metadata": {},
   "outputs": [
    {
     "name": "stdout",
     "output_type": "stream",
     "text": [
      "제 이름은 이병헌 입니다.\n",
      "True\n",
      "False\n"
     ]
    }
   ],
   "source": [
    "class Person:\n",
    "\n",
    "    # 생성자 메서드\n",
    "    def __init__(self, name):\n",
    "        # 인스턴스 변수 초기값 설정\n",
    "        self.name = name\n",
    "    \n",
    "    def __str__(self):\n",
    "        # 객체를 문자열로 어떻게 표현할지\n",
    "        return f\"제 이름은 {self.name} 입니다.\"\n",
    "\n",
    "    # 파라미터 1개 필요, 비교 대상 객체 == 연산자를 사용해서 비교할시 같다고 하는 기준을 정해준다.\n",
    "    def __eq__(self, o):\n",
    "        if self.name == o.name:\n",
    "            return True\n",
    "        else:\n",
    "            return False\n",
    "\n",
    "p1 = Person(\"이병헌\")\n",
    "print(p1)\n",
    "p2 = Person(\"이병헌\")\n",
    "\n",
    "print(p1 == p2)\n",
    "print(p1 is p2)"
   ]
  },
  {
   "cell_type": "code",
   "execution_count": 12,
   "metadata": {},
   "outputs": [
    {
     "name": "stdout",
     "output_type": "stream",
     "text": [
      "이름 : 아반테, 차량번호 : 1122, 속도 : 0\n",
      "이름 : 벤츠, 차량번호 : 7777, 속도 : 30\n",
      "True\n"
     ]
    }
   ],
   "source": [
    "# 자동차 클래스\n",
    "\n",
    "# 자동차 클래스의 속성\n",
    "# 자동차 총수, 자동차의 차량번호, 자동차의 이름, 자동차의 속도\n",
    "\n",
    "# 자동차 클래스의 기능\n",
    "# 자동차의 속도를 파라미터만큼 증가시키는 메서드\n",
    "# 자동차의 속도를 파라미터만큼 감소시키는 메서드\n",
    "\n",
    "# 자동차 클래스를 print를 통해 출력할때는\n",
    "# \"이름 : 자동차이름, 차량번호 : 차량번호, 속도 : 속도 \"\n",
    "# 자동차 인스턴스를 비교할때 차량번호가 같으면 같은 자동차로 취급한다.\n",
    "\n",
    "class Car:\n",
    "    cnt = 0\n",
    "\n",
    "    def __init__(self, name, number):\n",
    "        self.name = name\n",
    "        self.number = number\n",
    "        self.speed = 0\n",
    "        Car.cnt += 1\n",
    "\n",
    "    def accelerate(self, s):\n",
    "        self.speed += s\n",
    "    \n",
    "    def slow_down(self, s):\n",
    "        self.speed -= s\n",
    "\n",
    "    def __str__(self):\n",
    "        return f'이름 : {self.name}, 차량번호 : {self.number}, 속도 : {self.speed}'\n",
    "\n",
    "    def __eq__(self, o):\n",
    "        return self.number == o.number\n",
    "\n",
    "avante = Car(\"아반테\", 1122)\n",
    "print(avante)\n",
    "\n",
    "benz = Car(\"벤츠\", 7777)\n",
    "benz.accelerate(30)\n",
    "print(benz)\n",
    "\n",
    "zeep = Car(\"지프\", 7777)\n",
    "print(zeep == benz)"
   ]
  }
 ],
 "metadata": {
  "kernelspec": {
   "display_name": "Python 3",
   "language": "python",
   "name": "python3"
  },
  "language_info": {
   "codemirror_mode": {
    "name": "ipython",
    "version": 3
   },
   "file_extension": ".py",
   "mimetype": "text/x-python",
   "name": "python",
   "nbconvert_exporter": "python",
   "pygments_lexer": "ipython3",
   "version": "3.9.13 (tags/v3.9.13:6de2ca5, May 17 2022, 16:36:42) [MSC v.1929 64 bit (AMD64)]"
  },
  "orig_nbformat": 4,
  "vscode": {
   "interpreter": {
    "hash": "c90b4a90555f969a07063204a294918ff8cbd7a63eafc7a5ff09e1241834de49"
   }
  }
 },
 "nbformat": 4,
 "nbformat_minor": 2
}
