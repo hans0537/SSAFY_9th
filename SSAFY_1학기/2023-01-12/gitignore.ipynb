{
 "cells": [
  {
   "attachments": {},
   "cell_type": "markdown",
   "metadata": {},
   "source": [
    "[gitignore](https://www.toptal.com/developers/gitignore )\n",
    "\n",
    "    1. 특정 파일 혹은 폴더에 대해 git이 버전 관리를 하지 못하도록 지정하는 것\n",
    "    2. 민감한 개인정보가 담긴 파일(전화번호, 계좌번호, 비밀번호, api key)\n",
    "    3. os(운영체제)에서 활용되는 파일\n",
    "    4. IDE(통합 개발 환경) 에서 활용되는 파일\n",
    "    5. 개발언어 또는 프레임워크에서 사용되는 파일\n",
    "    6. 사용방법\n",
    "        1. 반드시 이름이 .gitognore 인 파일을 생성 (파일 맨앞이 .이면 숨김파일 이라는 뜻)\n",
    "        2. .gitignore 파일은 .git 폴더와 동일한 위치에 생성한다.\n",
    "        3. 버전관리에서 제외하고 싶은 파일은 반드시 git add 하기 전에 작성할 것\n",
    "            (한번 버전관리의 대상이 되면 이후에 .gitignore에 작성하더라도 무시되지 않음)\n",
    "    7. 쉽게 작성하는 방법\n",
    "        - .gitignore 파일의 내용을 쉽게 작성할 수 있도록 도와주는 사이트\n",
    "        - 자신이 사용하고 있는 프로그래밍 언어, 프레임워크 검색 후 추가\n",
    "        - 생성된 내용을 복사해서 .gitignore 파일에 붙여넣기\n",
    "        - 절대로 확장자명이 달라서는 안된다.\n",
    "    8. 직접 작성하는 방법\n",
    "        - .gitignore 패턴 규칙\n",
    "            1. 아무것도 없는 라인, #으로 시작하는 라인은 무시합니다.\n",
    "            2. 디렉토리는 슬래시(/)를 끝에 사용하는 것으로 표현합니다.\n",
    "            3. 표준 Glob 패턴을 사용합니다.\n",
    "                1. *(asterisk)은 문자가 하나도 없거나 하나 이상을 의미합니다.\n",
    "                2. [abc]는 괄호 안에 문자 하나를 의미합니다.\n",
    "                3. ? 는 문자하나\n",
    "                4. [0-9]는 괄호 안에 0에서 9사이의 문자 중 하나를 의미합니다.\n",
    "                5. **는 디렉토리 내부의 디렉토리까지 지정할 수 있다(중첩, 재귀)\n",
    "                (a/**/z 라고 작성 a/z, a/b/z, a/b/c/z 까지 모두 영향을 끼치게 된다.)\n",
    "            4. !로 시작하는 패턴의 파일은 ignore 하지 않습니다."
   ]
  }
 ],
 "metadata": {
  "kernelspec": {
   "display_name": "Python 3",
   "language": "python",
   "name": "python3"
  },
  "language_info": {
   "name": "python",
   "version": "3.11.1 (tags/v3.11.1:a7a450f, Dec  6 2022, 19:58:39) [MSC v.1934 64 bit (AMD64)]"
  },
  "orig_nbformat": 4,
  "vscode": {
   "interpreter": {
    "hash": "a28b486d3d796f7b3332da4f2f6544d26413b46d73c8f9c0d089d5fd493f7556"
   }
  }
 },
 "nbformat": 4,
 "nbformat_minor": 2
}
