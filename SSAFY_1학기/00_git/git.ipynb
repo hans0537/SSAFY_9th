{
 "cells": [
  {
   "attachments": {},
   "cell_type": "markdown",
   "metadata": {},
   "source": [
    "# git undoing\n",
    "### git 작업 되돌리기\n",
    "- Working Directory 작업단계 (local)\n",
    "\n",
    "  - 현재 작업하고 있는 파일을 수정 전(직전 커밋 한 파일(버전))으로 되돌리기\n",
    "\n",
    "  - 이미 버전 관리가 되고 있는 파일만 되돌리기 가능\n",
    "\n",
    "  - git restore를 통해 되돌리면, 해당 내용을 복원할 수 없음\n",
    "  \n",
    "  - git restore {파일 이름}\n",
    "\n",
    "- Staging Area 작업단계\n",
    "\n",
    "  - Staging Area에 반영된 파일을 Working Directory로 되돌리기(==Unstage)\n",
    "\n",
    "  - root-commit 여부에 따라 두 가지 명령어로 나뉨\n",
    "\n",
    "    - root-commit이 없는 경우 : Git 저장소가 만들어지고 한 번도 커밋을 안했을때\n",
    "\n",
    "        git rm --cached {파일 이름}\n",
    "\n",
    "    - root-commit이 있는 경우 : Git 저장소에 한 개 이상의 커밋이 있는 경우\n",
    "\n",
    "        git restore --staged {파일 이름}\n",
    "\n",
    "    \n",
    "- Repository 작업단계\n",
    "\n",
    "  - 커밋을 완료한 파일을 Staging Area로 되돌리기\n",
    "\n",
    "  - 커밋한 내용을 보려면 git log\n",
    "\n",
    "  - 상황별 두가지 기능으로 나뉨\n",
    "\n",
    "    - Staging Area에 새로 올라온 내용이 없다면, 직전 커밋의 메시지만 수정\n",
    "\n",
    "      git commit --amend 후 vim모드로 커밋 메시지 수정\n",
    "\n",
    "    - Staging Area에 새로 올라온 내용이 있다면, 직전 커밋을 덮어쓰기\n",
    "      \n",
    "      이전에 커밋한 내용이 마음에 안들면 새로운 파일을 만들어서 add 후 \n",
    "\n",
    "      git commit --amend로 이전 커밋을 덮어쓴다."
   ]
  },
  {
   "attachments": {},
   "cell_type": "markdown",
   "metadata": {},
   "source": [
    "# Git reset & revert\n",
    "### Git reset\n",
    "\n"
   ]
  }
 ],
 "metadata": {
  "language_info": {
   "name": "python"
  },
  "orig_nbformat": 4
 },
 "nbformat": 4,
 "nbformat_minor": 2
}
