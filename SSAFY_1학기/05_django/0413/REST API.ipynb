{
 "cells": [
  {
   "attachments": {},
   "cell_type": "markdown",
   "metadata": {},
   "source": [
    "# HTTP response status codes\n",
    "1. Informational responses (100-199)\n",
    "2. Successful responses (200-299)\n",
    "3. Redirection messages (300-399)\n",
    "4. Client error responses (400-499)\n",
    "5. Server error responses (500-599)\n",
    "\n",
    "## URI vs URN vs URL\n",
    "\n",
    "### URI\n",
    "Uniform Resource Identifier (통합 자원 식별자)\n",
    "- 인터넷에서 리소스를 식별하는 문자열\n",
    "\n",
    "URN\n",
    "- 특정 이름공간에서 이름으로 리소스를 식별하는 URI는 URN\n",
    "- ISBN, ISAN 등 리소스를 찾아가는 경로를 제공하지 않음\n",
    "\n",
    "Uniform Resource Locator (통합 자원 위치)\n",
    "- 웹에서 주어진 리소스의 주소\n",
    "\n",
    "\n",
    "\n",
    "### Application Programming Interface\n",
    "\n",
    "- 애플리케이션과 프로그래밍으로 소통하는 방법\n",
    "\n",
    "- API를 제공하는 애플리케이션과 다른 소프트웨어 및 하드웨어 등의 것들 사이의 간단한 계약(인터페이스)이라고 볼 수 있음\n",
    "\n",
    "- API는 복잡한 코드를 추강화하여 대신 사용할 수 있는 몇 가지 더 쉬운 구문을 제공\n",
    "\n",
    "### Representational State Transfer\n",
    "\n",
    "- 2000년 로이 필딩의 박사학위 논문에서 처음으로 소개 된 후 네트워킹 문화에 널리 퍼짐\n",
    "\n",
    "- "
   ]
  }
 ],
 "metadata": {
  "language_info": {
   "name": "python"
  },
  "orig_nbformat": 4
 },
 "nbformat": 4,
 "nbformat_minor": 2
}
