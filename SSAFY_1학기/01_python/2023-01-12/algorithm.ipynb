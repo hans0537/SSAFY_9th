{
 "cells": [
  {
   "cell_type": "code",
   "execution_count": null,
   "metadata": {},
   "outputs": [],
   "source": [
    "# 홀수만 더하기 \n",
    "# 입력\n",
    "# 3\n",
    "# 3 17 1 39 8 41 2 32 99 2\n",
    "# 22 8 5 123 7 2 63 7 3 46\n",
    "# 6 63 2 3 58 76 21 33 8 1  \n",
    "# 출력\n",
    "# #1 200\n",
    "# #2 208\n",
    "# #3 121\n",
    "\n",
    "\n",
    "T = int(input())\n",
    "\n",
    "for test_case in range(1, T + 1):\n",
    "    sum = 0\n",
    "    num = list(map(int,input().split()))\n",
    "    for i in num:\n",
    "        if(i % 2 != 0):\n",
    "            sum += i\n",
    "    print(f\"#{test_case} {sum}\")\n",
    "\n"
   ]
  },
  {
   "attachments": {},
   "cell_type": "markdown",
   "metadata": {},
   "source": [
    "## 주피터 노트북\n",
    "\n",
    "- ```pip install jupyter```\n",
    "- ```pip install ipykernel```\n",
    "- ```code --install-extension ms-toolsai.jupyter```\n",
    "\n",
    "vscode 재시작"
   ]
  },
  {
   "cell_type": "code",
   "execution_count": 4,
   "metadata": {},
   "outputs": [
    {
     "name": "stdout",
     "output_type": "stream",
     "text": [
      "#1 24\n",
      "#2 29\n",
      "#3 27\n"
     ]
    }
   ],
   "source": [
    "# 평균값 구하기\n",
    "# 입력\n",
    "# 3\n",
    "# 3 17 1 39 8 41 2 32 99 2\n",
    "# 22 8 5 123 7 2 63 7 3 46\n",
    "# 6 63 2 3 58 76 21 33 8 1   \n",
    "# 출력\n",
    "# #1 24\n",
    "# #2 29\n",
    "# #3 27\n",
    " \n",
    "T = int(input())\n",
    "\n",
    "for test_case in range(1, T + 1):\n",
    "    num = list(map(int,input().split()))\n",
    "    print(f\"#{test_case} {round(sum(num) / 10)}\")\n"
   ]
  },
  {
   "cell_type": "code",
   "execution_count": null,
   "metadata": {},
   "outputs": [],
   "source": [
    "# 큰 놈, 작은 놈, 같은 놈\n",
    "\n",
    "# 입력\n",
    "# 3\n",
    "# 3 8 \n",
    "# 7 7 \n",
    "# 369 123      \n",
    "# 출력\n",
    "# #1 <\n",
    "# #2 =\n",
    "# #3 >\n",
    "\n",
    "T = int(input())\n",
    "\n",
    "def ans(a, num):\n",
    "    if(a[0] < a[1]):\n",
    "        print(f\"#{num} <\")\n",
    "    elif(a[0] == a[1]):\n",
    "        print(f\"#{num} =\")\n",
    "    else:\n",
    "        print(f\"#{num} >\")\n",
    "\n",
    "for test_case in range(1, T + 1):\n",
    "    ans(list(map(int,input().split())), test_case)"
   ]
  },
  {
   "cell_type": "code",
   "execution_count": null,
   "metadata": {},
   "outputs": [],
   "source": [
    "# 최대수 구하기\n",
    "# 3 \n",
    "# 3 17 1 39 8 41 2 32 99 2\n",
    "# 22 8 5 123 7 2 63 7 3 46\n",
    "# 6 63 2 3 58 76 21 33 8 1   \n",
    "# 출력\n",
    "# #1 99\n",
    "# #2 123\n",
    "# #3 76\n",
    "\n",
    "T = int(input())\n",
    "for test_case in range(1, T + 1):\n",
    "    print(f\"#{test_case} {max(list(map(int,input().split())))}\")"
   ]
  },
  {
   "cell_type": "code",
   "execution_count": null,
   "metadata": {},
   "outputs": [],
   "source": [
    "# 최빈수 구하기\n",
    "\n",
    "T = int(input())\n",
    "\n",
    "for test_case in range(1, T + 1):\n",
    "    input()\n",
    "    score = list(map(int,input().split()))\n",
    "    dic = {}\n",
    "    for i in score:\n",
    "        if i in dic:\n",
    "            dic[i] += 1\n",
    "        else:\n",
    "            dic[i] = 1\n",
    "    print(f\"#{test_case} {max(dic, key=dic.get)}\")"
   ]
  }
 ],
 "metadata": {
  "kernelspec": {
   "display_name": "Python 3",
   "language": "python",
   "name": "python3"
  },
  "language_info": {
   "codemirror_mode": {
    "name": "ipython",
    "version": 3
   },
   "file_extension": ".py",
   "mimetype": "text/x-python",
   "name": "python",
   "nbconvert_exporter": "python",
   "pygments_lexer": "ipython3",
   "version": "3.11.1 (tags/v3.11.1:a7a450f, Dec  6 2022, 19:58:39) [MSC v.1934 64 bit (AMD64)]"
  },
  "orig_nbformat": 4,
  "vscode": {
   "interpreter": {
    "hash": "a28b486d3d796f7b3332da4f2f6544d26413b46d73c8f9c0d089d5fd493f7556"
   }
  }
 },
 "nbformat": 4,
 "nbformat_minor": 2
}
