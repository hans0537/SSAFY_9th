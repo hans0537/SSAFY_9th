{
 "cells": [
  {
   "cell_type": "code",
   "execution_count": 5,
   "metadata": {},
   "outputs": [
    {
     "name": "stdout",
     "output_type": "stream",
     "text": [
      "1724604523328\n",
      "1724604523328\n",
      "[0, 80, 100]\n",
      "[0, 80, 100]\n"
     ]
    }
   ],
   "source": [
    "scores = [90, 80, 100]\n",
    "\n",
    "# 얕은 복사\n",
    "new_scores = scores\n",
    "print(id(scores))\n",
    "print(id(new_scores))\n",
    "\n",
    "new_scores[0] = 0\n",
    "print(scores)\n",
    "print(new_scores)\n",
    "\n",
    "# 깊은 복사 1\n",
    "# 새로운 리스트 에 일일히 값을 넣어준다\n",
    "new_scores = []\n",
    "for num in scores:\n",
    "    new_scores.append(num)"
   ]
  },
  {
   "cell_type": "code",
   "execution_count": 8,
   "metadata": {},
   "outputs": [
    {
     "name": "stdout",
     "output_type": "stream",
     "text": [
      "1724604721280\n",
      "1724604506432\n",
      "[90, 80, 100]\n",
      "[0, 80, 100]\n"
     ]
    }
   ],
   "source": [
    "scores = [90, 80, 100]\n",
    "\n",
    "# 깊은 복사 1\n",
    "# 새로운 리스트 에 일일히 값을 넣어준다\n",
    "new_scores = []\n",
    "for num in scores:\n",
    "    new_scores.append(num)\n",
    "\n",
    "print(id(scores))\n",
    "print(id(new_scores))\n",
    "\n",
    "new_scores[0] = 0\n",
    "print(scores)\n",
    "print(new_scores)\n"
   ]
  },
  {
   "cell_type": "code",
   "execution_count": 9,
   "metadata": {},
   "outputs": [
    {
     "name": "stdout",
     "output_type": "stream",
     "text": [
      "1724604805248\n",
      "1724604567104\n",
      "[90, 80, 100]\n",
      "[0, 80, 100]\n"
     ]
    }
   ],
   "source": [
    "# 깊은 복사 2\n",
    "\n",
    "import copy\n",
    "\n",
    "scores = [90, 80, 100]\n",
    "new_scores = copy.deepcopy(scores)\n",
    "print(id(scores))\n",
    "print(id(new_scores))\n",
    "\n",
    "new_scores[0] = 0\n",
    "print(scores)\n",
    "print(new_scores)"
   ]
  },
  {
   "cell_type": "code",
   "execution_count": 11,
   "metadata": {},
   "outputs": [
    {
     "name": "stdout",
     "output_type": "stream",
     "text": [
      "1724604807808\n",
      "1724604809280\n",
      "1724604809152\n",
      "1724604523840\n",
      "1724604808384\n",
      "1724604808384\n"
     ]
    }
   ],
   "source": [
    "# 깊은 복사 처럼 보이지만 실제로는 얕은 복사\n",
    "scores = [10,20,30]\n",
    "new_scores = scores[:]\n",
    "\n",
    "print(id(scores))\n",
    "print(id(new_scores))\n",
    "\n",
    "# 리스트 안에 참조(리스트, 객체 등)가 존재하면...\n",
    "scores = [10, 20, [30, 40]]\n",
    "new_scores = scores[:]\n",
    "\n",
    "print(id(scores))\n",
    "print(id(new_scores))\n",
    "\n",
    "print(id(scores[2]))\n",
    "print(id(new_scores[2]))"
   ]
  },
  {
   "cell_type": "code",
   "execution_count": 14,
   "metadata": {},
   "outputs": [
    {
     "name": "stdout",
     "output_type": "stream",
     "text": [
      "1724604759088\n",
      "1724604759088\n",
      "1724604759088\n",
      "1724604759088\n"
     ]
    }
   ],
   "source": [
    "# 문자열\n",
    "import copy\n",
    "\n",
    "a = '12345'\n",
    "\n",
    "b = a\n",
    "\n",
    "print(id(a))\n",
    "print(id(b))\n",
    "\n",
    "# 문자열 깊은 복사가 안됨\n",
    "# 파이썬 메모리에선 문자열이 생성이 되면 초기의 주소를 다 바라보도록 한다\n",
    "# 같은 변수에서 생성이 되어도 같은 주소로 바라보도록 한다 \n",
    "b = copy.deepcopy(a)\n",
    "\n",
    "print(id(a))\n",
    "print(id(b))\n",
    "\n",
    "# 문자열은 불변 (리스트는 가변)\n"
   ]
  }
 ],
 "metadata": {
  "kernelspec": {
   "display_name": "Python 3",
   "language": "python",
   "name": "python3"
  },
  "language_info": {
   "codemirror_mode": {
    "name": "ipython",
    "version": 3
   },
   "file_extension": ".py",
   "mimetype": "text/x-python",
   "name": "python",
   "nbconvert_exporter": "python",
   "pygments_lexer": "ipython3",
   "version": "3.9.13 (tags/v3.9.13:6de2ca5, May 17 2022, 16:36:42) [MSC v.1929 64 bit (AMD64)]"
  },
  "orig_nbformat": 4,
  "vscode": {
   "interpreter": {
    "hash": "c90b4a90555f969a07063204a294918ff8cbd7a63eafc7a5ff09e1241834de49"
   }
  }
 },
 "nbformat": 4,
 "nbformat_minor": 2
}
