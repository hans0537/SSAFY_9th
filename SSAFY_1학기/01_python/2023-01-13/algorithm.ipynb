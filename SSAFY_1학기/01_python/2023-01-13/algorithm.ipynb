{
 "cells": [
  {
   "cell_type": "code",
   "execution_count": 1,
   "metadata": {},
   "outputs": [
    {
     "name": "stdout",
     "output_type": "stream",
     "text": [
      "30\n"
     ]
    }
   ],
   "source": [
    "#2058. 자릿수 더하기\n",
    "\n",
    "# 하나의 자연수를 입력 받아 각 자릿수의 합을 계산하는 프로그램을 작성하라.\n",
    "\n",
    "# 입력        출력\n",
    "# 6789        30\n",
    "\n",
    "T = int(input())\n",
    "ans = 0\n",
    "while T > 0:\n",
    "    ans += T % 10\n",
    "    T = T // 10\n",
    "print(ans)    "
   ]
  },
  {
   "cell_type": "code",
   "execution_count": null,
   "metadata": {},
   "outputs": [],
   "source": [
    "# 2046. 스탬프 찍기\n",
    "\n",
    "# 주어진 숫자만큼 # 을 출력해보세요.\n",
    "\n",
    "# 주어질 숫자는 100,000 이하다.\n",
    "\n",
    "# 입력    출력\n",
    "# 3       ###\n",
    "\n",
    "T = int(input())\n",
    "for i in range(T):\n",
    "    print(\"#\", end=\"\")"
   ]
  },
  {
   "cell_type": "code",
   "execution_count": 4,
   "metadata": {},
   "outputs": [
    {
     "name": "stdout",
     "output_type": "stream",
     "text": [
      "24\n"
     ]
    }
   ],
   "source": [
    "# 서랍의 비밀번호\n",
    "\"\"\"\n",
    "서랍의 비밀번호가 생각이 나지 않는다.\n",
    "비밀번호 P는 000부터 999까지 번호 중의 하나이다.\n",
    "주어지는 번호 K부터 1씩 증가하며 비밀번호를 확인해 볼 생각이다.\n",
    "예를 들어 비밀번호 P가 123 이고 주어지는 번호 K가 100 일 때, 100부터 123까지 24번 확인하여 비밀번호를 맞출 수 있다.\n",
    "P와 K가 주어지면 K부터 시작하여 몇 번 만에 P를 맞출 수 있는지 알아보자.\n",
    "\n",
    "[입력]\n",
    "입력으로 P와 K가 빈 칸을 사이로 주어진다.\n",
    "\n",
    "[출력]\n",
    "몇 번 만에 비밀번호를 맞출 수 있는지 출력한다.\n",
    "\"\"\"\n",
    "T = list(map(int,input().split()))\n",
    "print(T[0] - T[1] + 1)"
   ]
  },
  {
   "cell_type": "code",
   "execution_count": null,
   "metadata": {},
   "outputs": [],
   "source": [
    "#2029. 몫과 나머지 출력하기\n",
    "\n",
    "\"\"\"\n",
    "2개의 수 a, b를 입력 받아, a를 b로 나눈 몫과 나머지를 출력하는 프로그램을 작성하라.\n",
    "\n",
    "[입력]\n",
    "가장 첫 줄에는 테스트 케이스의 개수 T가 주어지고, 그 아래로 각 테스트 케이스가 주어진다.\n",
    "각 테스트 케이스의 첫 번째 줄에는 2개의 수가 주어진다.\n",
    "[출력]\n",
    "출력의 각 줄은 '#t'로 시작하고 공백을 한 칸 둔 다음, 몫을 출력하고 공백을 한 칸 둔 다음 나머지를 출력한다.\n",
    "(t는 테스트 케이스의 번호를 의미하며 1부터 시작한다.)\n",
    "\"\"\"\n",
    "\n",
    "T = int(input())\n",
    "for i in range(1, T + 1):\n",
    "    tmp = list(map(int,input().split()))\n",
    "    print(f\"#{i} {tmp[0]//tmp[1]} {tmp[0]%tmp[1]}\")"
   ]
  },
  {
   "cell_type": "code",
   "execution_count": null,
   "metadata": {},
   "outputs": [],
   "source": [
    "# 1936. 1대1 가위바위보\n",
    "\n",
    "\"\"\"\n",
    "A와 B가 가위바위보를 하였다\n",
    "가위는 1, 바위는 2, 보는 3으로 표현되며 A와 B가 무엇을 냈는지 입력으로 주어진다.\n",
    "A와 B중에 누가 이겼는지 판별해보자. 단, 비기는 경우는 없다.\n",
    "\n",
    "[입력]\n",
    "입력으로 A와 B가 무엇을 냈는지 빈 칸을 사이로 주어진다.\n",
    "\n",
    "[출력]\n",
    "A가 이기면 A, B가 이기면 B를 출력한다.\n",
    "\"\"\"\n",
    "\n",
    "a, b = map(int, input().split())\n",
    "if (a == 1 and b == 3) or (a == 2 and b == 1) or (a == 3 and b == 2):\n",
    "    print(\"A\")\n",
    "else:\n",
    "    print(\"B\")"
   ]
  },
  {
   "cell_type": "code",
   "execution_count": null,
   "metadata": {},
   "outputs": [],
   "source": [
    "# 2056. 연월일 달력\n",
    "# 연월일 순으로 구성된 8자리의 날짜가 입력으로 주어진다.\n",
    "# 해당 날짜의 유효성을 판단한 후, 날짜가 유효하다면\n",
    "\n",
    "# 날짜가 유효하지 않을 경우, -1 을 출력하는 프로그램을 작성하라.\n",
    "# 연월일로 구성된 입력에서 월은 1~12 사이 값을 가져야 하며\n",
    "# 일은 [표1] 과 같이, 1일 ~ 각각의 달에 해당하는 날짜까지의 값을 가질 수 있다.\n",
    "# ※ 2월의 경우, 28일인 경우만 고려한다. (윤년은 고려하지 않는다.)\n",
    "\n",
    "# [입력]\n",
    "# 입력은 첫 줄에 총 테스트 케이스의 개수 T가 온다.\n",
    "# 다음 줄부터 각 테스트 케이스가 주어진다.\n",
    "\n",
    "# [출력]\n",
    "# 테스트 케이스 t에 대한 결과는 “#t”을 찍고, 한 칸 띄고, 정답을 출력한다.\n",
    "# (t는 테스트 케이스의 번호를 의미하며 1부터 시작한다.)\n",
    "\n",
    "T = int(input())\n",
    "dic = {1 : 31, 2 : 28, 3 : 31, 4 : 30, 5 : 31, 6 : 30, 7 : 31, 8 : 31, 9 : 30, 10 : 31, 11 : 30, 12 : 31}\n",
    "for test_case in range(1, T + 1):\n",
    "    t = input()\n",
    "    ans = -1\n",
    "    if 1 <= int(t[4:6]) <= 12:\n",
    "        if 0 <= int(t[6:]) <= dic[int(t[4:6])]:\n",
    "            ans = 1\n",
    "    \n",
    "    if ans == 1:\n",
    "        print(f\"{t[:4]}/{t[4:6]}/{t[6:]}\")\n",
    "    else:\n",
    "        print(ans)\n"
   ]
  },
  {
   "cell_type": "code",
   "execution_count": null,
   "metadata": {},
   "outputs": [],
   "source": [
    "# 2050. 알파벳을 숫자로 변환\n",
    "\n",
    "# 알파벳으로 이루어진 문자열을 입력 받아 각 알파벳을 1부터 26까지의 숫자로 변환하여 출력하라.\n",
    "\n",
    "# [제약 사항]\n",
    "# 문자열의 최대 길이는 200이다.\n",
    "\n",
    "# [입력]\n",
    "# 알파벳으로 이루어진 문자열이 주어진다.\n",
    "\n",
    "# [출력]\n",
    "# 각 알파벳을 숫자로 변환한 결과값을 빈 칸을 두고 출력한다.\n",
    "\n",
    "T = input()\n",
    "for i in T:\n",
    "    print(ord(i) - 64, end=\" \")\n",
    "    "
   ]
  },
  {
   "cell_type": "code",
   "execution_count": null,
   "metadata": {},
   "outputs": [],
   "source": [
    "# 2047. 신문 헤드라인\n",
    "# 신문의 헤드라인을 편집하기 위해, 주어지는 문자열의 알파벳 소문자를 모두 대문자로 바꾸는 프로그램을 개발 중이다.\n",
    "# 입력으로 주어진 문장에 모든 소문자 알파벳을 찾아 대문자로 변환한 다음, 그 결과를 출력하는 프로그램을 작성하라.\n",
    "\n",
    "# [예제 풀이]\n",
    "# The_headline_is_the_text_indicating_the_nature_of_the_article_below_it.\n",
    "# 위와 같은 문자열이 입력으로 주어졌을 때, 출력은 다음과 같다.\n",
    "# THE_HEADLINE_IS_THE_TEXT_INDICATING_THE_NATURE_OF_THE_ARTICLE_BELOW_IT.\n",
    "\n",
    "# [제약 사항]\n",
    "# 문자열의 최대 길이는 80 bytes 이다.\n",
    "\n",
    "# [입력]\n",
    "# 입력으로 80 bytes 이하의 길이를 가진 문자열이 주어진다.\n",
    "\n",
    "# [출력]\n",
    "# 문자열의 소문자를 모두 대문자로 변경한 결과를 출력한다.\n",
    "\n",
    "print(input().upper())"
   ]
  },
  {
   "cell_type": "code",
   "execution_count": null,
   "metadata": {},
   "outputs": [],
   "source": []
  }
 ],
 "metadata": {
  "kernelspec": {
   "display_name": "Python 3",
   "language": "python",
   "name": "python3"
  },
  "language_info": {
   "codemirror_mode": {
    "name": "ipython",
    "version": 3
   },
   "file_extension": ".py",
   "mimetype": "text/x-python",
   "name": "python",
   "nbconvert_exporter": "python",
   "pygments_lexer": "ipython3",
   "version": "3.11.1 (tags/v3.11.1:a7a450f, Dec  6 2022, 19:58:39) [MSC v.1934 64 bit (AMD64)]"
  },
  "orig_nbformat": 4,
  "vscode": {
   "interpreter": {
    "hash": "a28b486d3d796f7b3332da4f2f6544d26413b46d73c8f9c0d089d5fd493f7556"
   }
  }
 },
 "nbformat": 4,
 "nbformat_minor": 2
}
